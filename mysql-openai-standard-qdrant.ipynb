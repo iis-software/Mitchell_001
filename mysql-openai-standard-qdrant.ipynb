{
  "cells": [
    {
      "id": "7350ef83-e1ca-52c7-80f0-cf6d1d55f735",
      "cell_type": "markdown",
      "metadata": {
        "id": "7350ef83-e1ca-52c7-80f0-cf6d1d55f735"
      },
      "source": [
        "# Generating SQL for MySQL using OpenAI, Qdrant\n",
        "This notebook runs through the process of using the `vanna` Python package to generate SQL using AI (RAG + LLMs) including connecting to a database and training. If you're not ready to train on your own database, you can still try it using a sample [SQLite database](app.md)."
      ]
    },
    {
      "id": "ff3dd9bd-902f-5f0b-bb27-749e37d59a8f",
      "cell_type": "markdown",
      "metadata": {
        "id": "ff3dd9bd-902f-5f0b-bb27-749e37d59a8f"
      },
      "source": [
        "\n",
        "<h3 class=\"mb-5 text-lg font-medium text-gray-900 dark:text-white\">Which LLM do you want to use?</h3>\n",
        "<ul class=\"grid w-full gap-6 md:grid-cols-2\">\n",
        "    \n",
        "  <li>\n",
        "    <a href=\"../mysql-openai-vanna-vannadb/\" class=\"inline-flex w-full cursor-pointer items-center justify-between rounded-lg border border-gray-200 bg-white p-5 text-gray-500 hover:bg-gray-100 hover:text-gray-600 peer-checked:border-blue-600 peer-checked:text-blue-600 dark:border-gray-700 dark:bg-gray-800 dark:text-gray-400 dark:hover:bg-gray-700 dark:hover:text-gray-300 dark:peer-checked:text-blue-500\">\n",
        "      <div class=\"block\">\n",
        "        <div class=\"w-full text-lg font-semibold\">OpenAI via Vanna.AI (Recommended)</div>\n",
        "        <small class=\"w-full\">Use Vanna.AI for free to generate your queries</small>\n",
        "      </div>\n",
        "    </a>\n",
        "  </li>\n",
        "    \n",
        "  <li>\n",
        "    <span class=\"inline-flex w-full cursor-pointer items-center justify-between rounded-lg border bg-white p-5 border-blue-600 text-blue-600 dark:bg-gray-800 dark:text-blue-500\">\n",
        "      <div class=\"block\">\n",
        "        <div class=\"w-full text-lg font-semibold\"><span class=\"hidden\">[Selected]</span> OpenAI</div>\n",
        "        <small class=\"w-full\">Use OpenAI with your own API key</small>\n",
        "      </div>\n",
        "    </span>\n",
        "  </li>\n",
        "  \n",
        "  <li>\n",
        "    <a href=\"../mysql-openai-azure-qdrant/\" class=\"inline-flex w-full cursor-pointer items-center justify-between rounded-lg border border-gray-200 bg-white p-5 text-gray-500 hover:bg-gray-100 hover:text-gray-600 peer-checked:border-blue-600 peer-checked:text-blue-600 dark:border-gray-700 dark:bg-gray-800 dark:text-gray-400 dark:hover:bg-gray-700 dark:hover:text-gray-300 dark:peer-checked:text-blue-500\">\n",
        "      <div class=\"block\">\n",
        "        <div class=\"w-full text-lg font-semibold\">Azure OpenAI</div>\n",
        "        <small class=\"w-full\">If you have OpenAI models deployed on Azure</small>\n",
        "      </div>\n",
        "    </a>\n",
        "  </li>\n",
        "    \n",
        "  <li>\n",
        "    <a href=\"../mysql-anthropic-qdrant/\" class=\"inline-flex w-full cursor-pointer items-center justify-between rounded-lg border border-gray-200 bg-white p-5 text-gray-500 hover:bg-gray-100 hover:text-gray-600 peer-checked:border-blue-600 peer-checked:text-blue-600 dark:border-gray-700 dark:bg-gray-800 dark:text-gray-400 dark:hover:bg-gray-700 dark:hover:text-gray-300 dark:peer-checked:text-blue-500\">\n",
        "      <div class=\"block\">\n",
        "        <div class=\"w-full text-lg font-semibold\">Anthropic</div>\n",
        "        <small class=\"w-full\">Use Anthropics Claude with your Anthropic API Key</small>\n",
        "      </div>\n",
        "    </a>\n",
        "  </li>\n",
        "    \n",
        "  <li>\n",
        "    <a href=\"../mysql-ollama-qdrant/\" class=\"inline-flex w-full cursor-pointer items-center justify-between rounded-lg border border-gray-200 bg-white p-5 text-gray-500 hover:bg-gray-100 hover:text-gray-600 peer-checked:border-blue-600 peer-checked:text-blue-600 dark:border-gray-700 dark:bg-gray-800 dark:text-gray-400 dark:hover:bg-gray-700 dark:hover:text-gray-300 dark:peer-checked:text-blue-500\">\n",
        "      <div class=\"block\">\n",
        "        <div class=\"w-full text-lg font-semibold\">Ollama</div>\n",
        "        <small class=\"w-full\">Use Ollama locally for free. Requires additional setup.</small>\n",
        "      </div>\n",
        "    </a>\n",
        "  </li>\n",
        "    \n",
        "  <li>\n",
        "    <a href=\"../mysql-gemini-qdrant/\" class=\"inline-flex w-full cursor-pointer items-center justify-between rounded-lg border border-gray-200 bg-white p-5 text-gray-500 hover:bg-gray-100 hover:text-gray-600 peer-checked:border-blue-600 peer-checked:text-blue-600 dark:border-gray-700 dark:bg-gray-800 dark:text-gray-400 dark:hover:bg-gray-700 dark:hover:text-gray-300 dark:peer-checked:text-blue-500\">\n",
        "      <div class=\"block\">\n",
        "        <div class=\"w-full text-lg font-semibold\">Google Gemini</div>\n",
        "        <small class=\"w-full\">Use Google Gemini with your Gemini or Vertex API Key</small>\n",
        "      </div>\n",
        "    </a>\n",
        "  </li>\n",
        "    \n",
        "  <li>\n",
        "    <a href=\"../mysql-mistral-qdrant/\" class=\"inline-flex w-full cursor-pointer items-center justify-between rounded-lg border border-gray-200 bg-white p-5 text-gray-500 hover:bg-gray-100 hover:text-gray-600 peer-checked:border-blue-600 peer-checked:text-blue-600 dark:border-gray-700 dark:bg-gray-800 dark:text-gray-400 dark:hover:bg-gray-700 dark:hover:text-gray-300 dark:peer-checked:text-blue-500\">\n",
        "      <div class=\"block\">\n",
        "        <div class=\"w-full text-lg font-semibold\">Mistral via Mistral API</div>\n",
        "        <small class=\"w-full\">If you have a Mistral API key</small>\n",
        "      </div>\n",
        "    </a>\n",
        "  </li>\n",
        "    \n",
        "  <li>\n",
        "    <a href=\"../mysql-other-llm-qdrant/\" class=\"inline-flex w-full cursor-pointer items-center justify-between rounded-lg border border-gray-200 bg-white p-5 text-gray-500 hover:bg-gray-100 hover:text-gray-600 peer-checked:border-blue-600 peer-checked:text-blue-600 dark:border-gray-700 dark:bg-gray-800 dark:text-gray-400 dark:hover:bg-gray-700 dark:hover:text-gray-300 dark:peer-checked:text-blue-500\">\n",
        "      <div class=\"block\">\n",
        "        <div class=\"w-full text-lg font-semibold\">Other LLM</div>\n",
        "        <small class=\"w-full\">If you have a different LLM model</small>\n",
        "      </div>\n",
        "    </a>\n",
        "  </li>\n",
        "    \n",
        "</ul>\n",
        "    "
      ]
    },
    {
      "id": "6199336f-62c5-5543-b165-e9913b47cb82",
      "cell_type": "markdown",
      "metadata": {
        "id": "6199336f-62c5-5543-b165-e9913b47cb82"
      },
      "source": [
        "\n",
        "<h3 class=\"mb-5 text-lg font-medium text-gray-900 dark:text-white\">Where do you want to store the 'training' data?</h3>\n",
        "<ul class=\"grid w-full gap-6 md:grid-cols-2\">\n",
        "    \n",
        "  <li>\n",
        "    <a href=\"../mysql-openai-standard-vannadb/\" class=\"inline-flex w-full cursor-pointer items-center justify-between rounded-lg border border-gray-200 bg-white p-5 text-gray-500 hover:bg-gray-100 hover:text-gray-600 peer-checked:border-blue-600 peer-checked:text-blue-600 dark:border-gray-700 dark:bg-gray-800 dark:text-gray-400 dark:hover:bg-gray-700 dark:hover:text-gray-300 dark:peer-checked:text-blue-500\">\n",
        "      <div class=\"block\">\n",
        "        <div class=\"w-full text-lg font-semibold\">Vanna Hosted Vector DB (Recommended)</div>\n",
        "        <small class=\"w-full\">Use Vanna.AIs hosted vector database (pgvector) for free. This is usable across machines with no additional setup.</small>\n",
        "      </div>\n",
        "    </a>\n",
        "  </li>\n",
        "    \n",
        "  <li>\n",
        "    <a href=\"../mysql-openai-standard-chromadb/\" class=\"inline-flex w-full cursor-pointer items-center justify-between rounded-lg border border-gray-200 bg-white p-5 text-gray-500 hover:bg-gray-100 hover:text-gray-600 peer-checked:border-blue-600 peer-checked:text-blue-600 dark:border-gray-700 dark:bg-gray-800 dark:text-gray-400 dark:hover:bg-gray-700 dark:hover:text-gray-300 dark:peer-checked:text-blue-500\">\n",
        "      <div class=\"block\">\n",
        "        <div class=\"w-full text-lg font-semibold\">ChromaDB</div>\n",
        "        <small class=\"w-full\">Use ChromaDBs open-source vector database for free locally. No additional setup is necessary -- all database files will be created and stored locally.</small>\n",
        "      </div>\n",
        "    </a>\n",
        "  </li>\n",
        "    \n",
        "  <li>\n",
        "    <span class=\"inline-flex w-full cursor-pointer items-center justify-between rounded-lg border bg-white p-5 border-blue-600 text-blue-600 dark:bg-gray-800 dark:text-blue-500\">\n",
        "      <div class=\"block\">\n",
        "        <div class=\"w-full text-lg font-semibold\"><span class=\"hidden\">[Selected]</span> Qdrant</div>\n",
        "        <small class=\"w-full\">Use Qdrants open-source vector database</small>\n",
        "      </div>\n",
        "    </span>\n",
        "  </li>\n",
        "  \n",
        "  <li>\n",
        "    <a href=\"../mysql-openai-standard-marqo/\" class=\"inline-flex w-full cursor-pointer items-center justify-between rounded-lg border border-gray-200 bg-white p-5 text-gray-500 hover:bg-gray-100 hover:text-gray-600 peer-checked:border-blue-600 peer-checked:text-blue-600 dark:border-gray-700 dark:bg-gray-800 dark:text-gray-400 dark:hover:bg-gray-700 dark:hover:text-gray-300 dark:peer-checked:text-blue-500\">\n",
        "      <div class=\"block\">\n",
        "        <div class=\"w-full text-lg font-semibold\">Marqo</div>\n",
        "        <small class=\"w-full\">Use Marqo locally for free. Requires additional setup. Or use their hosted option.</small>\n",
        "      </div>\n",
        "    </a>\n",
        "  </li>\n",
        "    \n",
        "  <li>\n",
        "    <a href=\"../mysql-openai-standard-other-vectordb/\" class=\"inline-flex w-full cursor-pointer items-center justify-between rounded-lg border border-gray-200 bg-white p-5 text-gray-500 hover:bg-gray-100 hover:text-gray-600 peer-checked:border-blue-600 peer-checked:text-blue-600 dark:border-gray-700 dark:bg-gray-800 dark:text-gray-400 dark:hover:bg-gray-700 dark:hover:text-gray-300 dark:peer-checked:text-blue-500\">\n",
        "      <div class=\"block\">\n",
        "        <div class=\"w-full text-lg font-semibold\">Other VectorDB</div>\n",
        "        <small class=\"w-full\">Use any other vector database. Requires additional setup.</small>\n",
        "      </div>\n",
        "    </a>\n",
        "  </li>\n",
        "    \n",
        "</ul>\n",
        "    "
      ]
    },
    {
      "id": "ee059407-58ac-50fa-843a-7b876328df13",
      "cell_type": "markdown",
      "metadata": {
        "id": "ee059407-58ac-50fa-843a-7b876328df13"
      },
      "source": [
        "## Setup"
      ]
    },
    {
      "id": "9f047939-cedd-5248-9816-338067ac4d00",
      "cell_type": "code",
      "execution_count": 1,
      "metadata": {
        "id": "9f047939-cedd-5248-9816-338067ac4d00",
        "outputId": "6b7f1466-8e16-44aa-d2fe-6220797478e2",
        "colab": {
          "base_uri": "https://localhost:8080/",
          "height": 1000
        }
      },
      "outputs": [
        {
          "output_type": "stream",
          "name": "stdout",
          "text": [
            "Collecting vanna[mysql,openai,qdrant]\n",
            "  Downloading vanna-0.6.2-py3-none-any.whl (180 kB)\n",
            "\u001b[?25l     \u001b[90m━━━━━━━━━━━━━━━━━━━━━━━━━━━━━━━━━━━━━━━━\u001b[0m \u001b[32m0.0/180.3 kB\u001b[0m \u001b[31m?\u001b[0m eta \u001b[36m-:--:--\u001b[0m\r\u001b[2K     \u001b[91m━━━━━━━━━━━━━━━━━━━━━━━━━━━━━━━━━━━━━━\u001b[0m\u001b[91m╸\u001b[0m\u001b[90m━\u001b[0m \u001b[32m174.1/180.3 kB\u001b[0m \u001b[31m5.3 MB/s\u001b[0m eta \u001b[36m0:00:01\u001b[0m\r\u001b[2K     \u001b[90m━━━━━━━━━━━━━━━━━━━━━━━━━━━━━━━━━━━━━━━━\u001b[0m \u001b[32m180.3/180.3 kB\u001b[0m \u001b[31m3.4 MB/s\u001b[0m eta \u001b[36m0:00:00\u001b[0m\n",
            "\u001b[?25hRequirement already satisfied: requests in /usr/local/lib/python3.10/dist-packages (from vanna[mysql,openai,qdrant]) (2.31.0)\n",
            "Requirement already satisfied: tabulate in /usr/local/lib/python3.10/dist-packages (from vanna[mysql,openai,qdrant]) (0.9.0)\n",
            "Requirement already satisfied: plotly in /usr/local/lib/python3.10/dist-packages (from vanna[mysql,openai,qdrant]) (5.15.0)\n",
            "Requirement already satisfied: pandas in /usr/local/lib/python3.10/dist-packages (from vanna[mysql,openai,qdrant]) (2.0.3)\n",
            "Requirement already satisfied: sqlparse in /usr/local/lib/python3.10/dist-packages (from vanna[mysql,openai,qdrant]) (0.5.0)\n",
            "Collecting kaleido (from vanna[mysql,openai,qdrant])\n",
            "  Downloading kaleido-0.2.1-py2.py3-none-manylinux1_x86_64.whl (79.9 MB)\n",
            "\u001b[2K     \u001b[90m━━━━━━━━━━━━━━━━━━━━━━━━━━━━━━━━━━━━━━━━\u001b[0m \u001b[32m79.9/79.9 MB\u001b[0m \u001b[31m7.9 MB/s\u001b[0m eta \u001b[36m0:00:00\u001b[0m\n",
            "\u001b[?25hRequirement already satisfied: flask in /usr/local/lib/python3.10/dist-packages (from vanna[mysql,openai,qdrant]) (2.2.5)\n",
            "Collecting flask-sock (from vanna[mysql,openai,qdrant])\n",
            "  Downloading flask_sock-0.7.0-py3-none-any.whl (4.0 kB)\n",
            "Requirement already satisfied: sqlalchemy in /usr/local/lib/python3.10/dist-packages (from vanna[mysql,openai,qdrant]) (2.0.31)\n",
            "Collecting PyMySQL (from vanna[mysql,openai,qdrant])\n",
            "  Downloading PyMySQL-1.1.1-py3-none-any.whl (44 kB)\n",
            "\u001b[2K     \u001b[90m━━━━━━━━━━━━━━━━━━━━━━━━━━━━━━━━━━━━━━━━\u001b[0m \u001b[32m45.0/45.0 kB\u001b[0m \u001b[31m4.8 MB/s\u001b[0m eta \u001b[36m0:00:00\u001b[0m\n",
            "\u001b[?25hCollecting qdrant-client (from vanna[mysql,openai,qdrant])\n",
            "  Downloading qdrant_client-1.10.0-py3-none-any.whl (254 kB)\n",
            "\u001b[2K     \u001b[90m━━━━━━━━━━━━━━━━━━━━━━━━━━━━━━━━━━━━━━━━\u001b[0m \u001b[32m254.1/254.1 kB\u001b[0m \u001b[31m16.0 MB/s\u001b[0m eta \u001b[36m0:00:00\u001b[0m\n",
            "\u001b[?25hCollecting fastembed (from vanna[mysql,openai,qdrant])\n",
            "  Downloading fastembed-0.3.1-py3-none-any.whl (54 kB)\n",
            "\u001b[2K     \u001b[90m━━━━━━━━━━━━━━━━━━━━━━━━━━━━━━━━━━━━━━━━\u001b[0m \u001b[32m54.8/54.8 kB\u001b[0m \u001b[31m5.5 MB/s\u001b[0m eta \u001b[36m0:00:00\u001b[0m\n",
            "\u001b[?25hCollecting openai (from vanna[mysql,openai,qdrant])\n",
            "  Downloading openai-1.35.7-py3-none-any.whl (327 kB)\n",
            "\u001b[2K     \u001b[90m━━━━━━━━━━━━━━━━━━━━━━━━━━━━━━━━━━━━━━━━\u001b[0m \u001b[32m327.5/327.5 kB\u001b[0m \u001b[31m22.5 MB/s\u001b[0m eta \u001b[36m0:00:00\u001b[0m\n",
            "\u001b[?25hCollecting PyStemmer<3.0.0,>=2.2.0 (from fastembed->vanna[mysql,openai,qdrant])\n",
            "  Downloading PyStemmer-2.2.0.1.tar.gz (303 kB)\n",
            "\u001b[2K     \u001b[90m━━━━━━━━━━━━━━━━━━━━━━━━━━━━━━━━━━━━━━━━\u001b[0m \u001b[32m303.0/303.0 kB\u001b[0m \u001b[31m25.6 MB/s\u001b[0m eta \u001b[36m0:00:00\u001b[0m\n",
            "\u001b[?25h  Preparing metadata (setup.py) ... \u001b[?25l\u001b[?25hdone\n",
            "Requirement already satisfied: huggingface-hub<1.0,>=0.20 in /usr/local/lib/python3.10/dist-packages (from fastembed->vanna[mysql,openai,qdrant]) (0.23.4)\n",
            "Collecting loguru<0.8.0,>=0.7.2 (from fastembed->vanna[mysql,openai,qdrant])\n",
            "  Downloading loguru-0.7.2-py3-none-any.whl (62 kB)\n",
            "\u001b[2K     \u001b[90m━━━━━━━━━━━━━━━━━━━━━━━━━━━━━━━━━━━━━━━━\u001b[0m \u001b[32m62.5/62.5 kB\u001b[0m \u001b[31m6.7 MB/s\u001b[0m eta \u001b[36m0:00:00\u001b[0m\n",
            "\u001b[?25hCollecting mmh3<5.0,>=4.0 (from fastembed->vanna[mysql,openai,qdrant])\n",
            "  Downloading mmh3-4.1.0-cp310-cp310-manylinux_2_5_x86_64.manylinux1_x86_64.manylinux_2_17_x86_64.manylinux2014_x86_64.whl (67 kB)\n",
            "\u001b[2K     \u001b[90m━━━━━━━━━━━━━━━━━━━━━━━━━━━━━━━━━━━━━━━━\u001b[0m \u001b[32m67.6/67.6 kB\u001b[0m \u001b[31m5.7 MB/s\u001b[0m eta \u001b[36m0:00:00\u001b[0m\n",
            "\u001b[?25hRequirement already satisfied: numpy<2,>=1.21 in /usr/local/lib/python3.10/dist-packages (from fastembed->vanna[mysql,openai,qdrant]) (1.25.2)\n",
            "Collecting onnx<2.0.0,>=1.15.0 (from fastembed->vanna[mysql,openai,qdrant])\n",
            "  Downloading onnx-1.16.1-cp310-cp310-manylinux_2_17_x86_64.manylinux2014_x86_64.whl (15.9 MB)\n",
            "\u001b[2K     \u001b[90m━━━━━━━━━━━━━━━━━━━━━━━━━━━━━━━━━━━━━━━━\u001b[0m \u001b[32m15.9/15.9 MB\u001b[0m \u001b[31m38.0 MB/s\u001b[0m eta \u001b[36m0:00:00\u001b[0m\n",
            "\u001b[?25hCollecting onnxruntime<2.0.0,>=1.17.0 (from fastembed->vanna[mysql,openai,qdrant])\n",
            "  Downloading onnxruntime-1.18.1-cp310-cp310-manylinux_2_27_x86_64.manylinux_2_28_x86_64.whl (6.8 MB)\n",
            "\u001b[2K     \u001b[90m━━━━━━━━━━━━━━━━━━━━━━━━━━━━━━━━━━━━━━━━\u001b[0m \u001b[32m6.8/6.8 MB\u001b[0m \u001b[31m46.2 MB/s\u001b[0m eta \u001b[36m0:00:00\u001b[0m\n",
            "\u001b[?25hCollecting pillow<11.0.0,>=10.3.0 (from fastembed->vanna[mysql,openai,qdrant])\n",
            "  Downloading pillow-10.4.0-cp310-cp310-manylinux_2_28_x86_64.whl (4.5 MB)\n",
            "\u001b[2K     \u001b[90m━━━━━━━━━━━━━━━━━━━━━━━━━━━━━━━━━━━━━━━━\u001b[0m \u001b[32m4.5/4.5 MB\u001b[0m \u001b[31m35.8 MB/s\u001b[0m eta \u001b[36m0:00:00\u001b[0m\n",
            "\u001b[?25hRequirement already satisfied: snowballstemmer<3.0.0,>=2.2.0 in /usr/local/lib/python3.10/dist-packages (from fastembed->vanna[mysql,openai,qdrant]) (2.2.0)\n",
            "Requirement already satisfied: tokenizers<1.0,>=0.15 in /usr/local/lib/python3.10/dist-packages (from fastembed->vanna[mysql,openai,qdrant]) (0.19.1)\n",
            "Requirement already satisfied: tqdm<5.0,>=4.66 in /usr/local/lib/python3.10/dist-packages (from fastembed->vanna[mysql,openai,qdrant]) (4.66.4)\n",
            "Requirement already satisfied: charset-normalizer<4,>=2 in /usr/local/lib/python3.10/dist-packages (from requests->vanna[mysql,openai,qdrant]) (3.3.2)\n",
            "Requirement already satisfied: idna<4,>=2.5 in /usr/local/lib/python3.10/dist-packages (from requests->vanna[mysql,openai,qdrant]) (3.7)\n",
            "Requirement already satisfied: urllib3<3,>=1.21.1 in /usr/local/lib/python3.10/dist-packages (from requests->vanna[mysql,openai,qdrant]) (2.0.7)\n",
            "Requirement already satisfied: certifi>=2017.4.17 in /usr/local/lib/python3.10/dist-packages (from requests->vanna[mysql,openai,qdrant]) (2024.6.2)\n",
            "Requirement already satisfied: Werkzeug>=2.2.2 in /usr/local/lib/python3.10/dist-packages (from flask->vanna[mysql,openai,qdrant]) (3.0.3)\n",
            "Requirement already satisfied: Jinja2>=3.0 in /usr/local/lib/python3.10/dist-packages (from flask->vanna[mysql,openai,qdrant]) (3.1.4)\n",
            "Requirement already satisfied: itsdangerous>=2.0 in /usr/local/lib/python3.10/dist-packages (from flask->vanna[mysql,openai,qdrant]) (2.2.0)\n",
            "Requirement already satisfied: click>=8.0 in /usr/local/lib/python3.10/dist-packages (from flask->vanna[mysql,openai,qdrant]) (8.1.7)\n",
            "Collecting simple-websocket>=0.5.1 (from flask-sock->vanna[mysql,openai,qdrant])\n",
            "  Downloading simple_websocket-1.0.0-py3-none-any.whl (13 kB)\n",
            "Requirement already satisfied: anyio<5,>=3.5.0 in /usr/local/lib/python3.10/dist-packages (from openai->vanna[mysql,openai,qdrant]) (3.7.1)\n",
            "Requirement already satisfied: distro<2,>=1.7.0 in /usr/lib/python3/dist-packages (from openai->vanna[mysql,openai,qdrant]) (1.7.0)\n",
            "Collecting httpx<1,>=0.23.0 (from openai->vanna[mysql,openai,qdrant])\n",
            "  Downloading httpx-0.27.0-py3-none-any.whl (75 kB)\n",
            "\u001b[2K     \u001b[90m━━━━━━━━━━━━━━━━━━━━━━━━━━━━━━━━━━━━━━━━\u001b[0m \u001b[32m75.6/75.6 kB\u001b[0m \u001b[31m6.1 MB/s\u001b[0m eta \u001b[36m0:00:00\u001b[0m\n",
            "\u001b[?25hRequirement already satisfied: pydantic<3,>=1.9.0 in /usr/local/lib/python3.10/dist-packages (from openai->vanna[mysql,openai,qdrant]) (2.7.4)\n",
            "Requirement already satisfied: sniffio in /usr/local/lib/python3.10/dist-packages (from openai->vanna[mysql,openai,qdrant]) (1.3.1)\n",
            "Requirement already satisfied: typing-extensions<5,>=4.7 in /usr/local/lib/python3.10/dist-packages (from openai->vanna[mysql,openai,qdrant]) (4.12.2)\n",
            "Requirement already satisfied: python-dateutil>=2.8.2 in /usr/local/lib/python3.10/dist-packages (from pandas->vanna[mysql,openai,qdrant]) (2.8.2)\n",
            "Requirement already satisfied: pytz>=2020.1 in /usr/local/lib/python3.10/dist-packages (from pandas->vanna[mysql,openai,qdrant]) (2023.4)\n",
            "Requirement already satisfied: tzdata>=2022.1 in /usr/local/lib/python3.10/dist-packages (from pandas->vanna[mysql,openai,qdrant]) (2024.1)\n",
            "Requirement already satisfied: tenacity>=6.2.0 in /usr/local/lib/python3.10/dist-packages (from plotly->vanna[mysql,openai,qdrant]) (8.4.2)\n",
            "Requirement already satisfied: packaging in /usr/local/lib/python3.10/dist-packages (from plotly->vanna[mysql,openai,qdrant]) (24.1)\n",
            "Requirement already satisfied: grpcio>=1.41.0 in /usr/local/lib/python3.10/dist-packages (from qdrant-client->vanna[mysql,openai,qdrant]) (1.64.1)\n",
            "Collecting grpcio-tools>=1.41.0 (from qdrant-client->vanna[mysql,openai,qdrant])\n",
            "  Downloading grpcio_tools-1.64.1-cp310-cp310-manylinux_2_17_x86_64.manylinux2014_x86_64.whl (2.3 MB)\n",
            "\u001b[2K     \u001b[90m━━━━━━━━━━━━━━━━━━━━━━━━━━━━━━━━━━━━━━━━\u001b[0m \u001b[32m2.3/2.3 MB\u001b[0m \u001b[31m8.9 MB/s\u001b[0m eta \u001b[36m0:00:00\u001b[0m\n",
            "\u001b[?25hCollecting portalocker<3.0.0,>=2.7.0 (from qdrant-client->vanna[mysql,openai,qdrant])\n",
            "  Downloading portalocker-2.10.0-py3-none-any.whl (18 kB)\n",
            "Requirement already satisfied: greenlet!=0.4.17 in /usr/local/lib/python3.10/dist-packages (from sqlalchemy->vanna[mysql,openai,qdrant]) (3.0.3)\n",
            "Requirement already satisfied: exceptiongroup in /usr/local/lib/python3.10/dist-packages (from anyio<5,>=3.5.0->openai->vanna[mysql,openai,qdrant]) (1.2.1)\n",
            "Collecting protobuf<6.0dev,>=5.26.1 (from grpcio-tools>=1.41.0->qdrant-client->vanna[mysql,openai,qdrant])\n",
            "  Downloading protobuf-5.27.2-cp38-abi3-manylinux2014_x86_64.whl (309 kB)\n",
            "\u001b[2K     \u001b[90m━━━━━━━━━━━━━━━━━━━━━━━━━━━━━━━━━━━━━━━━\u001b[0m \u001b[32m309.3/309.3 kB\u001b[0m \u001b[31m9.4 MB/s\u001b[0m eta \u001b[36m0:00:00\u001b[0m\n",
            "\u001b[?25hRequirement already satisfied: setuptools in /usr/local/lib/python3.10/dist-packages (from grpcio-tools>=1.41.0->qdrant-client->vanna[mysql,openai,qdrant]) (67.7.2)\n",
            "Collecting httpcore==1.* (from httpx<1,>=0.23.0->openai->vanna[mysql,openai,qdrant])\n",
            "  Downloading httpcore-1.0.5-py3-none-any.whl (77 kB)\n",
            "\u001b[2K     \u001b[90m━━━━━━━━━━━━━━━━━━━━━━━━━━━━━━━━━━━━━━━━\u001b[0m \u001b[32m77.9/77.9 kB\u001b[0m \u001b[31m6.3 MB/s\u001b[0m eta \u001b[36m0:00:00\u001b[0m\n",
            "\u001b[?25hCollecting h11<0.15,>=0.13 (from httpcore==1.*->httpx<1,>=0.23.0->openai->vanna[mysql,openai,qdrant])\n",
            "  Downloading h11-0.14.0-py3-none-any.whl (58 kB)\n",
            "\u001b[2K     \u001b[90m━━━━━━━━━━━━━━━━━━━━━━━━━━━━━━━━━━━━━━━━\u001b[0m \u001b[32m58.3/58.3 kB\u001b[0m \u001b[31m5.5 MB/s\u001b[0m eta \u001b[36m0:00:00\u001b[0m\n",
            "\u001b[?25hCollecting h2<5,>=3 (from httpx<1,>=0.23.0->openai->vanna[mysql,openai,qdrant])\n",
            "  Downloading h2-4.1.0-py3-none-any.whl (57 kB)\n",
            "\u001b[2K     \u001b[90m━━━━━━━━━━━━━━━━━━━━━━━━━━━━━━━━━━━━━━━━\u001b[0m \u001b[32m57.5/57.5 kB\u001b[0m \u001b[31m4.9 MB/s\u001b[0m eta \u001b[36m0:00:00\u001b[0m\n",
            "\u001b[?25hRequirement already satisfied: filelock in /usr/local/lib/python3.10/dist-packages (from huggingface-hub<1.0,>=0.20->fastembed->vanna[mysql,openai,qdrant]) (3.15.4)\n",
            "Requirement already satisfied: fsspec>=2023.5.0 in /usr/local/lib/python3.10/dist-packages (from huggingface-hub<1.0,>=0.20->fastembed->vanna[mysql,openai,qdrant]) (2023.6.0)\n",
            "Requirement already satisfied: pyyaml>=5.1 in /usr/local/lib/python3.10/dist-packages (from huggingface-hub<1.0,>=0.20->fastembed->vanna[mysql,openai,qdrant]) (6.0.1)\n",
            "Requirement already satisfied: MarkupSafe>=2.0 in /usr/local/lib/python3.10/dist-packages (from Jinja2>=3.0->flask->vanna[mysql,openai,qdrant]) (2.1.5)\n",
            "Collecting coloredlogs (from onnxruntime<2.0.0,>=1.17.0->fastembed->vanna[mysql,openai,qdrant])\n",
            "  Downloading coloredlogs-15.0.1-py2.py3-none-any.whl (46 kB)\n",
            "\u001b[2K     \u001b[90m━━━━━━━━━━━━━━━━━━━━━━━━━━━━━━━━━━━━━━━━\u001b[0m \u001b[32m46.0/46.0 kB\u001b[0m \u001b[31m4.1 MB/s\u001b[0m eta \u001b[36m0:00:00\u001b[0m\n",
            "\u001b[?25hRequirement already satisfied: flatbuffers in /usr/local/lib/python3.10/dist-packages (from onnxruntime<2.0.0,>=1.17.0->fastembed->vanna[mysql,openai,qdrant]) (24.3.25)\n",
            "Requirement already satisfied: sympy in /usr/local/lib/python3.10/dist-packages (from onnxruntime<2.0.0,>=1.17.0->fastembed->vanna[mysql,openai,qdrant]) (1.12.1)\n",
            "Requirement already satisfied: annotated-types>=0.4.0 in /usr/local/lib/python3.10/dist-packages (from pydantic<3,>=1.9.0->openai->vanna[mysql,openai,qdrant]) (0.7.0)\n",
            "Requirement already satisfied: pydantic-core==2.18.4 in /usr/local/lib/python3.10/dist-packages (from pydantic<3,>=1.9.0->openai->vanna[mysql,openai,qdrant]) (2.18.4)\n",
            "Requirement already satisfied: six>=1.5 in /usr/local/lib/python3.10/dist-packages (from python-dateutil>=2.8.2->pandas->vanna[mysql,openai,qdrant]) (1.16.0)\n",
            "Collecting wsproto (from simple-websocket>=0.5.1->flask-sock->vanna[mysql,openai,qdrant])\n",
            "  Downloading wsproto-1.2.0-py3-none-any.whl (24 kB)\n",
            "Collecting hyperframe<7,>=6.0 (from h2<5,>=3->httpx<1,>=0.23.0->openai->vanna[mysql,openai,qdrant])\n",
            "  Downloading hyperframe-6.0.1-py3-none-any.whl (12 kB)\n",
            "Collecting hpack<5,>=4.0 (from h2<5,>=3->httpx<1,>=0.23.0->openai->vanna[mysql,openai,qdrant])\n",
            "  Downloading hpack-4.0.0-py3-none-any.whl (32 kB)\n",
            "Collecting humanfriendly>=9.1 (from coloredlogs->onnxruntime<2.0.0,>=1.17.0->fastembed->vanna[mysql,openai,qdrant])\n",
            "  Downloading humanfriendly-10.0-py2.py3-none-any.whl (86 kB)\n",
            "\u001b[2K     \u001b[90m━━━━━━━━━━━━━━━━━━━━━━━━━━━━━━━━━━━━━━━━\u001b[0m \u001b[32m86.8/86.8 kB\u001b[0m \u001b[31m4.8 MB/s\u001b[0m eta \u001b[36m0:00:00\u001b[0m\n",
            "\u001b[?25hRequirement already satisfied: mpmath<1.4.0,>=1.1.0 in /usr/local/lib/python3.10/dist-packages (from sympy->onnxruntime<2.0.0,>=1.17.0->fastembed->vanna[mysql,openai,qdrant]) (1.3.0)\n",
            "Building wheels for collected packages: PyStemmer\n",
            "  Building wheel for PyStemmer (setup.py) ... \u001b[?25l\u001b[?25hdone\n",
            "  Created wheel for PyStemmer: filename=PyStemmer-2.2.0.1-cp310-cp310-linux_x86_64.whl size=579705 sha256=c5768a3b9ff0950dc0094609ec6ab05ccdc940f04558710ecc2fe4c654608dec\n",
            "  Stored in directory: /root/.cache/pip/wheels/45/7d/2c/a7ebb8319e01acc5306fa1f8558bf24063d6cec2c02de330c9\n",
            "Successfully built PyStemmer\n",
            "Installing collected packages: PyStemmer, mmh3, kaleido, PyMySQL, protobuf, portalocker, pillow, loguru, hyperframe, humanfriendly, hpack, h11, wsproto, onnx, httpcore, h2, grpcio-tools, coloredlogs, simple-websocket, onnxruntime, httpx, openai, flask-sock, fastembed, vanna, qdrant-client\n",
            "  Attempting uninstall: protobuf\n",
            "    Found existing installation: protobuf 3.20.3\n",
            "    Uninstalling protobuf-3.20.3:\n",
            "      Successfully uninstalled protobuf-3.20.3\n",
            "  Attempting uninstall: pillow\n",
            "    Found existing installation: Pillow 9.4.0\n",
            "    Uninstalling Pillow-9.4.0:\n",
            "      Successfully uninstalled Pillow-9.4.0\n",
            "\u001b[31mERROR: pip's dependency resolver does not currently take into account all the packages that are installed. This behaviour is the source of the following dependency conflicts.\n",
            "cudf-cu12 24.4.1 requires protobuf<5,>=3.20, but you have protobuf 5.27.2 which is incompatible.\n",
            "google-ai-generativelanguage 0.6.4 requires protobuf!=3.20.0,!=3.20.1,!=4.21.0,!=4.21.1,!=4.21.2,!=4.21.3,!=4.21.4,!=4.21.5,<5.0.0dev,>=3.19.5, but you have protobuf 5.27.2 which is incompatible.\n",
            "google-api-core 2.11.1 requires protobuf!=3.20.0,!=3.20.1,!=4.21.0,!=4.21.1,!=4.21.2,!=4.21.3,!=4.21.4,!=4.21.5,<5.0.0.dev0,>=3.19.5, but you have protobuf 5.27.2 which is incompatible.\n",
            "google-cloud-aiplatform 1.57.0 requires protobuf!=3.20.0,!=3.20.1,!=4.21.0,!=4.21.1,!=4.21.2,!=4.21.3,!=4.21.4,!=4.21.5,<5.0.0dev,>=3.19.5, but you have protobuf 5.27.2 which is incompatible.\n",
            "google-cloud-bigquery-connection 1.12.1 requires protobuf!=3.20.0,!=3.20.1,!=4.21.0,!=4.21.1,!=4.21.2,!=4.21.3,!=4.21.4,!=4.21.5,<5.0.0dev,>=3.19.5, but you have protobuf 5.27.2 which is incompatible.\n",
            "google-cloud-bigquery-storage 2.25.0 requires protobuf!=3.20.0,!=3.20.1,!=4.21.0,!=4.21.1,!=4.21.2,!=4.21.3,!=4.21.4,!=4.21.5,<5.0.0dev,>=3.19.5, but you have protobuf 5.27.2 which is incompatible.\n",
            "google-cloud-datastore 2.15.2 requires protobuf!=3.20.0,!=3.20.1,!=4.21.0,!=4.21.1,!=4.21.2,!=4.21.3,!=4.21.4,!=4.21.5,<5.0.0dev,>=3.19.5, but you have protobuf 5.27.2 which is incompatible.\n",
            "google-cloud-firestore 2.11.1 requires protobuf!=3.20.0,!=3.20.1,!=4.21.0,!=4.21.1,!=4.21.2,!=4.21.3,!=4.21.4,!=4.21.5,<5.0.0dev,>=3.19.5, but you have protobuf 5.27.2 which is incompatible.\n",
            "google-cloud-functions 1.13.3 requires protobuf!=3.20.0,!=3.20.1,!=4.21.0,!=4.21.1,!=4.21.2,!=4.21.3,!=4.21.4,!=4.21.5,<5.0.0dev,>=3.19.5, but you have protobuf 5.27.2 which is incompatible.\n",
            "google-cloud-iam 2.15.0 requires protobuf!=3.20.0,!=3.20.1,!=4.21.0,!=4.21.1,!=4.21.2,!=4.21.3,!=4.21.4,!=4.21.5,<5.0.0dev,>=3.19.5, but you have protobuf 5.27.2 which is incompatible.\n",
            "google-cloud-language 2.13.3 requires protobuf!=3.20.0,!=3.20.1,!=4.21.0,!=4.21.1,!=4.21.2,!=4.21.3,!=4.21.4,!=4.21.5,<5.0.0dev,>=3.19.5, but you have protobuf 5.27.2 which is incompatible.\n",
            "google-cloud-resource-manager 1.12.3 requires protobuf!=3.20.0,!=3.20.1,!=4.21.0,!=4.21.1,!=4.21.2,!=4.21.3,!=4.21.4,!=4.21.5,<5.0.0dev,>=3.19.5, but you have protobuf 5.27.2 which is incompatible.\n",
            "google-cloud-translate 3.11.3 requires protobuf!=3.20.0,!=3.20.1,!=4.21.0,!=4.21.1,!=4.21.2,!=4.21.3,!=4.21.4,!=4.21.5,<5.0.0dev,>=3.19.5, but you have protobuf 5.27.2 which is incompatible.\n",
            "imageio 2.31.6 requires pillow<10.1.0,>=8.3.2, but you have pillow 10.4.0 which is incompatible.\n",
            "tensorflow 2.15.0 requires protobuf!=4.21.0,!=4.21.1,!=4.21.2,!=4.21.3,!=4.21.4,!=4.21.5,<5.0.0dev,>=3.20.3, but you have protobuf 5.27.2 which is incompatible.\n",
            "tensorflow-metadata 1.15.0 requires protobuf<4.21,>=3.20.3; python_version < \"3.11\", but you have protobuf 5.27.2 which is incompatible.\u001b[0m\u001b[31m\n",
            "\u001b[0mSuccessfully installed PyMySQL-1.1.1 PyStemmer-2.2.0.1 coloredlogs-15.0.1 fastembed-0.3.1 flask-sock-0.7.0 grpcio-tools-1.64.1 h11-0.14.0 h2-4.1.0 hpack-4.0.0 httpcore-1.0.5 httpx-0.27.0 humanfriendly-10.0 hyperframe-6.0.1 kaleido-0.2.1 loguru-0.7.2 mmh3-4.1.0 onnx-1.16.1 onnxruntime-1.18.1 openai-1.35.7 pillow-10.4.0 portalocker-2.10.0 protobuf-5.27.2 qdrant-client-1.10.0 simple-websocket-1.0.0 vanna-0.6.2 wsproto-1.2.0\n"
          ]
        },
        {
          "output_type": "display_data",
          "data": {
            "application/vnd.colab-display-data+json": {
              "pip_warning": {
                "packages": [
                  "PIL"
                ]
              },
              "id": "a0ccfd2ce2e94ec88a3e49a883c0ba98"
            }
          },
          "metadata": {}
        }
      ],
      "source": [
        "%pip install 'vanna[qdrant,openai,mysql]'"
      ]
    },
    {
      "id": "663561fc-e110-5d40-8d4c-1c3ca2a2f557",
      "cell_type": "code",
      "execution_count": null,
      "metadata": {
        "id": "663561fc-e110-5d40-8d4c-1c3ca2a2f557"
      },
      "outputs": [],
      "source": [
        "from vanna.openai import OpenAI_Chat\n",
        "from vanna.qdrant import Qdrant_VectorStore\n",
        "from qdrant_client import QdrantClient\n"
      ]
    },
    {
      "id": "77eab1a1-b490-53af-9135-061262cbd0a9",
      "cell_type": "code",
      "execution_count": null,
      "metadata": {
        "id": "77eab1a1-b490-53af-9135-061262cbd0a9"
      },
      "outputs": [],
      "source": [
        "\n",
        "\n",
        "\n",
        "class MyVanna(Qdrant_VectorStore, OpenAI_Chat):\n",
        "    def __init__(self, config=None):\n",
        "        Qdrant_VectorStore.__init__(self, config=config)\n",
        "        OpenAI_Chat.__init__(self, config=config)\n",
        "\n",
        "vn = MyVanna(config={\n",
        "\t'client': QdrantClient(...),\n",
        "\t'api_key': sk-...,\n",
        "\t'model': gpt-4-...,\n",
        "})\n"
      ]
    },
    {
      "id": "5aaba239-6066-5b64-979a-b53fd1d532c4",
      "cell_type": "markdown",
      "metadata": {
        "id": "5aaba239-6066-5b64-979a-b53fd1d532c4"
      },
      "source": [
        "\n",
        "<h3 class=\"mb-5 text-lg font-medium text-gray-900 dark:text-white\">Which database do you want to query?</h3>\n",
        "<ul class=\"grid w-full gap-6 md:grid-cols-2\">\n",
        "    \n",
        "  <li>\n",
        "    <a href=\"../postgres-openai-standard-qdrant/\" class=\"inline-flex w-full cursor-pointer items-center justify-between rounded-lg border border-gray-200 bg-white p-5 text-gray-500 hover:bg-gray-100 hover:text-gray-600 peer-checked:border-blue-600 peer-checked:text-blue-600 dark:border-gray-700 dark:bg-gray-800 dark:text-gray-400 dark:hover:bg-gray-700 dark:hover:text-gray-300 dark:peer-checked:text-blue-500\">\n",
        "      <div class=\"block\">\n",
        "        <div class=\"w-full text-lg font-semibold\">Postgres</div>\n",
        "        <small class=\"w-full\"></small>\n",
        "      </div>\n",
        "    </a>\n",
        "  </li>\n",
        "    \n",
        "  <li>\n",
        "    <a href=\"../mssql-openai-standard-qdrant/\" class=\"inline-flex w-full cursor-pointer items-center justify-between rounded-lg border border-gray-200 bg-white p-5 text-gray-500 hover:bg-gray-100 hover:text-gray-600 peer-checked:border-blue-600 peer-checked:text-blue-600 dark:border-gray-700 dark:bg-gray-800 dark:text-gray-400 dark:hover:bg-gray-700 dark:hover:text-gray-300 dark:peer-checked:text-blue-500\">\n",
        "      <div class=\"block\">\n",
        "        <div class=\"w-full text-lg font-semibold\">Microsoft SQL Server</div>\n",
        "        <small class=\"w-full\"></small>\n",
        "      </div>\n",
        "    </a>\n",
        "  </li>\n",
        "    \n",
        "  <li>\n",
        "    <span class=\"inline-flex w-full cursor-pointer items-center justify-between rounded-lg border bg-white p-5 border-blue-600 text-blue-600 dark:bg-gray-800 dark:text-blue-500\">\n",
        "      <div class=\"block\">\n",
        "        <div class=\"w-full text-lg font-semibold\"><span class=\"hidden\">[Selected]</span> MySQL</div>\n",
        "        <small class=\"w-full\"></small>\n",
        "      </div>\n",
        "    </span>\n",
        "  </li>\n",
        "  \n",
        "  <li>\n",
        "    <a href=\"../duckdb-openai-standard-qdrant/\" class=\"inline-flex w-full cursor-pointer items-center justify-between rounded-lg border border-gray-200 bg-white p-5 text-gray-500 hover:bg-gray-100 hover:text-gray-600 peer-checked:border-blue-600 peer-checked:text-blue-600 dark:border-gray-700 dark:bg-gray-800 dark:text-gray-400 dark:hover:bg-gray-700 dark:hover:text-gray-300 dark:peer-checked:text-blue-500\">\n",
        "      <div class=\"block\">\n",
        "        <div class=\"w-full text-lg font-semibold\">DuckDB</div>\n",
        "        <small class=\"w-full\"></small>\n",
        "      </div>\n",
        "    </a>\n",
        "  </li>\n",
        "    \n",
        "  <li>\n",
        "    <a href=\"../snowflake-openai-standard-qdrant/\" class=\"inline-flex w-full cursor-pointer items-center justify-between rounded-lg border border-gray-200 bg-white p-5 text-gray-500 hover:bg-gray-100 hover:text-gray-600 peer-checked:border-blue-600 peer-checked:text-blue-600 dark:border-gray-700 dark:bg-gray-800 dark:text-gray-400 dark:hover:bg-gray-700 dark:hover:text-gray-300 dark:peer-checked:text-blue-500\">\n",
        "      <div class=\"block\">\n",
        "        <div class=\"w-full text-lg font-semibold\">Snowflake</div>\n",
        "        <small class=\"w-full\"></small>\n",
        "      </div>\n",
        "    </a>\n",
        "  </li>\n",
        "    \n",
        "  <li>\n",
        "    <a href=\"../bigquery-openai-standard-qdrant/\" class=\"inline-flex w-full cursor-pointer items-center justify-between rounded-lg border border-gray-200 bg-white p-5 text-gray-500 hover:bg-gray-100 hover:text-gray-600 peer-checked:border-blue-600 peer-checked:text-blue-600 dark:border-gray-700 dark:bg-gray-800 dark:text-gray-400 dark:hover:bg-gray-700 dark:hover:text-gray-300 dark:peer-checked:text-blue-500\">\n",
        "      <div class=\"block\">\n",
        "        <div class=\"w-full text-lg font-semibold\">BigQuery</div>\n",
        "        <small class=\"w-full\"></small>\n",
        "      </div>\n",
        "    </a>\n",
        "  </li>\n",
        "    \n",
        "  <li>\n",
        "    <a href=\"../sqlite-openai-standard-qdrant/\" class=\"inline-flex w-full cursor-pointer items-center justify-between rounded-lg border border-gray-200 bg-white p-5 text-gray-500 hover:bg-gray-100 hover:text-gray-600 peer-checked:border-blue-600 peer-checked:text-blue-600 dark:border-gray-700 dark:bg-gray-800 dark:text-gray-400 dark:hover:bg-gray-700 dark:hover:text-gray-300 dark:peer-checked:text-blue-500\">\n",
        "      <div class=\"block\">\n",
        "        <div class=\"w-full text-lg font-semibold\">SQLite</div>\n",
        "        <small class=\"w-full\"></small>\n",
        "      </div>\n",
        "    </a>\n",
        "  </li>\n",
        "    \n",
        "  <li>\n",
        "    <a href=\"../oracle-openai-standard-qdrant/\" class=\"inline-flex w-full cursor-pointer items-center justify-between rounded-lg border border-gray-200 bg-white p-5 text-gray-500 hover:bg-gray-100 hover:text-gray-600 peer-checked:border-blue-600 peer-checked:text-blue-600 dark:border-gray-700 dark:bg-gray-800 dark:text-gray-400 dark:hover:bg-gray-700 dark:hover:text-gray-300 dark:peer-checked:text-blue-500\">\n",
        "      <div class=\"block\">\n",
        "        <div class=\"w-full text-lg font-semibold\">Oracle</div>\n",
        "        <small class=\"w-full\"></small>\n",
        "      </div>\n",
        "    </a>\n",
        "  </li>\n",
        "    \n",
        "  <li>\n",
        "    <a href=\"../other-database-openai-standard-qdrant/\" class=\"inline-flex w-full cursor-pointer items-center justify-between rounded-lg border border-gray-200 bg-white p-5 text-gray-500 hover:bg-gray-100 hover:text-gray-600 peer-checked:border-blue-600 peer-checked:text-blue-600 dark:border-gray-700 dark:bg-gray-800 dark:text-gray-400 dark:hover:bg-gray-700 dark:hover:text-gray-300 dark:peer-checked:text-blue-500\">\n",
        "      <div class=\"block\">\n",
        "        <div class=\"w-full text-lg font-semibold\">Other Database</div>\n",
        "        <small class=\"w-full\">Use Vanna to generate queries for any SQL database</small>\n",
        "      </div>\n",
        "    </a>\n",
        "  </li>\n",
        "    \n",
        "</ul>\n",
        "    "
      ]
    },
    {
      "id": "703d8cab-72f1-59ae-bfa5-1180a94ddfbd",
      "cell_type": "code",
      "execution_count": null,
      "metadata": {
        "id": "703d8cab-72f1-59ae-bfa5-1180a94ddfbd"
      },
      "outputs": [],
      "source": [
        "vn.connect_to_mysql(host='my-host', dbname='my-db', user='my-user', password='my-password', port=123)"
      ]
    },
    {
      "id": "f06c0e89-83f7-5ad1-8f6e-a64cf5bd8e60",
      "cell_type": "markdown",
      "metadata": {
        "id": "f06c0e89-83f7-5ad1-8f6e-a64cf5bd8e60"
      },
      "source": [
        "## Training\n",
        "You only need to train once. Do not train again unless you want to add more training data."
      ]
    },
    {
      "id": "5d321d01-d66f-5c5e-a3f3-e2d3d4330344",
      "cell_type": "code",
      "execution_count": null,
      "metadata": {
        "id": "5d321d01-d66f-5c5e-a3f3-e2d3d4330344"
      },
      "outputs": [],
      "source": [
        "\n",
        "# The information schema query may need some tweaking depending on your database. This is a good starting point.\n",
        "df_information_schema = vn.run_sql(\"SELECT * FROM INFORMATION_SCHEMA.COLUMNS\")\n",
        "\n",
        "# This will break up the information schema into bite-sized chunks that can be referenced by the LLM\n",
        "plan = vn.get_training_plan_generic(df_information_schema)\n",
        "plan\n",
        "\n",
        "# If you like the plan, then uncomment this and run it to train\n",
        "# vn.train(plan=plan)\n",
        "\n"
      ]
    },
    {
      "id": "7c421f88-42ea-567c-8581-3dcac96c36a3",
      "cell_type": "code",
      "execution_count": null,
      "metadata": {
        "id": "7c421f88-42ea-567c-8581-3dcac96c36a3"
      },
      "outputs": [],
      "source": [
        "\n",
        "# The following are methods for adding training data. Make sure you modify the examples to match your database.\n",
        "\n",
        "# DDL statements are powerful because they specify table names, colume names, types, and potentially relationships\n",
        "vn.train(ddl=\"\"\"\n",
        "    CREATE TABLE IF NOT EXISTS my-table (\n",
        "        id INT PRIMARY KEY,\n",
        "        name VARCHAR(100),\n",
        "        age INT\n",
        "    )\n",
        "\"\"\")\n",
        "\n",
        "# Sometimes you may want to add documentation about your business terminology or definitions.\n",
        "vn.train(documentation=\"Our business defines OTIF score as the percentage of orders that are delivered on time and in full\")\n",
        "\n",
        "# You can also add SQL queries to your training data. This is useful if you have some queries already laying around. You can just copy and paste those from your editor to begin generating new SQL.\n",
        "vn.train(sql=\"SELECT * FROM my-table WHERE name = 'John Doe'\")\n"
      ]
    },
    {
      "id": "59fcb3b1-4434-583d-82be-ed8e9b04d699",
      "cell_type": "code",
      "execution_count": null,
      "metadata": {
        "id": "59fcb3b1-4434-583d-82be-ed8e9b04d699"
      },
      "outputs": [],
      "source": [
        "# At any time you can inspect what training data the package is able to reference\n",
        "training_data = vn.get_training_data()\n",
        "training_data"
      ]
    },
    {
      "id": "6cf17ab9-dc48-58af-8d75-4e5590a01c88",
      "cell_type": "code",
      "execution_count": null,
      "metadata": {
        "id": "6cf17ab9-dc48-58af-8d75-4e5590a01c88"
      },
      "outputs": [],
      "source": [
        "# You can remove training data if there's obsolete/incorrect information.\n",
        "vn.remove_training_data(id='1-ddl')\n"
      ]
    },
    {
      "id": "bf2fc121-a3ab-5a2e-95b0-383271e82d5f",
      "cell_type": "markdown",
      "metadata": {
        "id": "bf2fc121-a3ab-5a2e-95b0-383271e82d5f"
      },
      "source": [
        "## Asking the AI\n",
        "Whenever you ask a new question, it will find the 10 most relevant pieces of training data and use it as part of the LLM prompt to generate the SQL."
      ]
    },
    {
      "id": "edb6679e-a102-5efc-b890-81babca8f500",
      "cell_type": "code",
      "execution_count": null,
      "metadata": {
        "id": "edb6679e-a102-5efc-b890-81babca8f500"
      },
      "outputs": [],
      "source": [
        "vn.ask(question=...)"
      ]
    },
    {
      "id": "8c49dd68-3bc6-5098-93f1-2d4d8617badb",
      "cell_type": "markdown",
      "metadata": {
        "id": "8c49dd68-3bc6-5098-93f1-2d4d8617badb"
      },
      "source": [
        "## Launch the User Interface\n",
        "![vanna-flask](https://vanna.ai/blog/img/vanna-flask.gif)"
      ]
    },
    {
      "id": "b87d140b-ef56-5795-b489-46bb11d01459",
      "cell_type": "code",
      "execution_count": null,
      "metadata": {
        "id": "b87d140b-ef56-5795-b489-46bb11d01459"
      },
      "outputs": [],
      "source": [
        "from vanna.flask import VannaFlaskApp\n",
        "app = VannaFlaskApp(vn)\n",
        "app.run()"
      ]
    },
    {
      "id": "29793859-c3c8-50da-994a-c8f6348d6730",
      "cell_type": "markdown",
      "metadata": {
        "id": "29793859-c3c8-50da-994a-c8f6348d6730"
      },
      "source": [
        "## Next Steps\n",
        "Using Vanna via Jupyter notebooks is great for getting started but check out additional customizable interfaces like the\n",
        "- [Streamlit app](https://github.com/vanna-ai/vanna-streamlit)\n",
        "- [Flask app](https://github.com/vanna-ai/vanna-flask)\n",
        "- [Slackbot](https://github.com/vanna-ai/vanna-slack)\n"
      ]
    }
  ],
  "metadata": {
    "kernelspec": {
      "display_name": "Python 3",
      "language": "python",
      "name": "python3"
    },
    "language_info": {
      "codemirror_mode": {
        "name": "ipython",
        "version": 3
      },
      "file_extension": ".py",
      "mimetype": "text/x-python",
      "name": "python",
      "nbconvert_exporter": "python",
      "pygments_lexer": "ipython3",
      "version": "3.8.5"
    },
    "colab": {
      "provenance": []
    }
  },
  "nbformat": 4,
  "nbformat_minor": 5
}